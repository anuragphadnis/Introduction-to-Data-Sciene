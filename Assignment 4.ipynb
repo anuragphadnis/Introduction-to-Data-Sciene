{
 "cells": [
  {
   "cell_type": "markdown",
   "metadata": {},
   "source": [
    "---\n",
    "\n",
    "_You are currently looking at **version 1.1** of this notebook. To download notebooks and datafiles, as well as get help on Jupyter notebooks in the Coursera platform, visit the [Jupyter Notebook FAQ](https://www.coursera.org/learn/python-data-analysis/resources/0dhYG) course resource._\n",
    "\n",
    "---"
   ]
  },
  {
   "cell_type": "code",
   "execution_count": 25,
   "metadata": {},
   "outputs": [],
   "source": [
    "import pandas as pd\n",
    "import numpy as np\n",
    "from scipy.stats import ttest_ind"
   ]
  },
  {
   "cell_type": "markdown",
   "metadata": {},
   "source": [
    "# Assignment 4 - Hypothesis Testing\n",
    "This assignment requires more individual learning than previous assignments - you are encouraged to check out the [pandas documentation](http://pandas.pydata.org/pandas-docs/stable/) to find functions or methods you might not have used yet, or ask questions on [Stack Overflow](http://stackoverflow.com/) and tag them as pandas and python related. And of course, the discussion forums are open for interaction with your peers and the course staff.\n",
    "\n",
    "Definitions:\n",
    "* A _quarter_ is a specific three month period, Q1 is January through March, Q2 is April through June, Q3 is July through September, Q4 is October through December.\n",
    "* A _recession_ is defined as starting with two consecutive quarters of GDP decline, and ending with two consecutive quarters of GDP growth.\n",
    "* A _recession bottom_ is the quarter within a recession which had the lowest GDP.\n",
    "* A _university town_ is a city which has a high percentage of university students compared to the total population of the city.\n",
    "\n",
    "**Hypothesis**: University towns have their mean housing prices less effected by recessions. Run a t-test to compare the ratio of the mean price of houses in university towns the quarter before the recession starts compared to the recession bottom. (`price_ratio=quarter_before_recession/recession_bottom`)\n",
    "\n",
    "The following data files are available for this assignment:\n",
    "* From the [Zillow research data site](http://www.zillow.com/research/data/) there is housing data for the United States. In particular the datafile for [all homes at a city level](http://files.zillowstatic.com/research/public/City/City_Zhvi_AllHomes.csv), ```City_Zhvi_AllHomes.csv```, has median home sale prices at a fine grained level.\n",
    "* From the Wikipedia page on college towns is a list of [university towns in the United States](https://en.wikipedia.org/wiki/List_of_college_towns#College_towns_in_the_United_States) which has been copy and pasted into the file ```university_towns.txt```.\n",
    "* From Bureau of Economic Analysis, US Department of Commerce, the [GDP over time](http://www.bea.gov/national/index.htm#gdp) of the United States in current dollars (use the chained value in 2009 dollars), in quarterly intervals, in the file ```gdplev.xls```. For this assignment, only look at GDP data from the first quarter of 2000 onward.\n",
    "\n",
    "Each function in this assignment below is worth 10%, with the exception of ```run_ttest()```, which is worth 50%."
   ]
  },
  {
   "cell_type": "code",
   "execution_count": 26,
   "metadata": {},
   "outputs": [],
   "source": [
    "# Use this dictionary to map state names to two letter acronyms\n",
    "states = {'OH': 'Ohio', 'KY': 'Kentucky', 'AS': 'American Samoa', 'NV': 'Nevada', 'WY': 'Wyoming', 'NA': 'National', 'AL': 'Alabama', 'MD': 'Maryland', 'AK': 'Alaska', 'UT': 'Utah', 'OR': 'Oregon', 'MT': 'Montana', 'IL': 'Illinois', 'TN': 'Tennessee', 'DC': 'District of Columbia', 'VT': 'Vermont', 'ID': 'Idaho', 'AR': 'Arkansas', 'ME': 'Maine', 'WA': 'Washington', 'HI': 'Hawaii', 'WI': 'Wisconsin', 'MI': 'Michigan', 'IN': 'Indiana', 'NJ': 'New Jersey', 'AZ': 'Arizona', 'GU': 'Guam', 'MS': 'Mississippi', 'PR': 'Puerto Rico', 'NC': 'North Carolina', 'TX': 'Texas', 'SD': 'South Dakota', 'MP': 'Northern Mariana Islands', 'IA': 'Iowa', 'MO': 'Missouri', 'CT': 'Connecticut', 'WV': 'West Virginia', 'SC': 'South Carolina', 'LA': 'Louisiana', 'KS': 'Kansas', 'NY': 'New York', 'NE': 'Nebraska', 'OK': 'Oklahoma', 'FL': 'Florida', 'CA': 'California', 'CO': 'Colorado', 'PA': 'Pennsylvania', 'DE': 'Delaware', 'NM': 'New Mexico', 'RI': 'Rhode Island', 'MN': 'Minnesota', 'VI': 'Virgin Islands', 'NH': 'New Hampshire', 'MA': 'Massachusetts', 'GA': 'Georgia', 'ND': 'North Dakota', 'VA': 'Virginia'}"
   ]
  },
  {
   "cell_type": "code",
   "execution_count": 27,
   "metadata": {},
   "outputs": [],
   "source": [
    "def get_list_of_university_towns():\n",
    "    '''Returns a DataFrame of towns and the states they are in from the \n",
    "    university_towns.txt list. The format of the DataFrame should be:\n",
    "    DataFrame( [ [\"Michigan\", \"Ann Arbor\"], [\"Michigan\", \"Yipsilanti\"] ], \n",
    "    columns=[\"State\", \"RegionName\"]  )\n",
    "    \n",
    "    The following cleaning needs to be done:\n",
    "\n",
    "    1. For \"State\", removing characters from \"[\" to the end.\n",
    "    2. For \"RegionName\", when applicable, removing every character from \" (\" to the end.\n",
    "    3. Depending on how you read the data, you may need to remove newline character '\\n'. '''\n",
    "    towns = pd.read_csv('university_towns.txt',sep='\\n')\n",
    "    towns['State']=' '\n",
    "    curs = 'Alabama'\n",
    "    for i,row in towns.iterrows():\n",
    "        if '[edit]' in row['Alabama[edit]']:\n",
    "            curs=row['Alabama[edit]']\n",
    "        towns.at[i,'State']=curs\n",
    "    towns.columns=['RegionName','State']\n",
    "    towns = towns[towns['RegionName'].str.contains('[edit]',regex=False)==0]\n",
    "    towns['State'] = towns['State'].str.replace(r'\\[.*', '')\n",
    "    towns['RegionName'] = towns['RegionName'].str.replace(r'\\s\\(.*', '')\n",
    "    statelist=towns['State']\n",
    "    regionlist=towns['RegionName']\n",
    "    ans = pd.DataFrame([statelist,regionlist])\n",
    "    ans=ans.T\n",
    "    return ans\n",
    "#get_list_of_university_towns()"
   ]
  },
  {
   "cell_type": "code",
   "execution_count": 28,
   "metadata": {},
   "outputs": [],
   "source": [
    "def get_recession_start():\n",
    "    '''Returns the year and quarter of the recession start time as a \n",
    "    string value in a format such as 2005q3'''\n",
    "    df=pd.read_excel('gdplev.xls',skiprows=5)\n",
    "    #df=df[df['Unnamed: 0']>=2000]\n",
    "    df=df.rename(columns={'Unnamed: 4':'Quaters','GDP in billions of chained 2009 dollars.1':'GDP'})#'GDP in billions of chained 2009 dollars.2':'Q2',})\n",
    "    df2=df[['Quaters','GDP']]\n",
    "    df3=pd.DataFrame(df2)\n",
    "    #f3=df3.set_index('Quaters')\n",
    "    df3=df3[214:]\n",
    "    #return df3\n",
    "    ans=[]\n",
    "    rec=0\n",
    "    for i in range(len(df3)-2):\n",
    "        if rec==0 and (df3.iloc[i+1,1]<df3.iloc[i,1] and df3.iloc[i+2,1]<df3.iloc[i+1,1]):\n",
    "            ans.append(df3.iloc[i+1,0])\n",
    "            rec=1\n",
    "        if rec==1 and (df3.iloc[i,1]<df3.iloc[i+1,1] and df3.iloc[i+1,1]<df3.iloc[i+2,1]):\n",
    "            rec=0\n",
    "            #print(df3.iloc[i,0])\n",
    "    return ans[0]\n",
    "#get_recession_start()"
   ]
  },
  {
   "cell_type": "code",
   "execution_count": 29,
   "metadata": {},
   "outputs": [],
   "source": [
    "def get_recession_end():\n",
    "    '''Returns the year and quarter of the recession end time as a \n",
    "    string value in a format such as 2005q3'''\n",
    "    df=pd.read_excel('gdplev.xls',skiprows=5)\n",
    "    #df=df[df['Unnamed: 0']>=2000]\n",
    "    df=df.rename(columns={'Unnamed: 4':'Quaters','GDP in billions of chained 2009 dollars.1':'GDP'})#'GDP in billions of chained 2009 dollars.2':'Q2',})\n",
    "    df2=df[['Quaters','GDP']]\n",
    "    df3=pd.DataFrame(df2)\n",
    "    #f3=df3.set_index('Quaters')\n",
    "    df3=df3[214:]\n",
    "    #return df3\n",
    "    ans=[]\n",
    "    rec=0\n",
    "    for i in range(len(df3)-2):\n",
    "        if rec==0 and (df3.iloc[i+1,1]<df3.iloc[i,1] and df3.iloc[i+2,1]<df3.iloc[i+1,1]):\n",
    "            rec=1\n",
    "        if rec==1 and (df3.iloc[i,1]<df3.iloc[i+1,1] and df3.iloc[i+1,1]<df3.iloc[i+2,1]):\n",
    "            rec=0\n",
    "            ans.append(df3.iloc[i+2,0])\n",
    "            #print(df3.iloc[i,0])\n",
    "    return ans[0]\n",
    "#get_recession_end()"
   ]
  },
  {
   "cell_type": "code",
   "execution_count": 30,
   "metadata": {},
   "outputs": [],
   "source": [
    "def get_recession_bottom():\n",
    "    '''Returns the year and quarter of the recession bottom time as a \n",
    "    string value in a format such as 2005q3'''\n",
    "    df=pd.read_excel('gdplev.xls',skiprows=5)\n",
    "    #df=df[df['Unnamed: 0']>=2000]\n",
    "    df=df.rename(columns={'Unnamed: 4':'Quaters','GDP in billions of chained 2009 dollars.1':'GDP'})#'GDP in billions of chained 2009 dollars.2':'Q2',})\n",
    "    df2=df[['Quaters','GDP']]\n",
    "    df3=pd.DataFrame(df2)\n",
    "    #f3=df3.set_index('Quaters')\n",
    "    df3=df3[247:252]\n",
    "    ans= df3['GDP'].idxmin()\n",
    "    return df3.iloc[ans-247,0]\n",
    "#get_recession_bottom()"
   ]
  },
  {
   "cell_type": "code",
   "execution_count": 31,
   "metadata": {},
   "outputs": [],
   "source": [
    "def convert_housing_data_to_quarters():\n",
    "    '''Converts the housing data to quarters and returns it as mean \n",
    "    values in a dataframe. This dataframe should be a dataframe with\n",
    "    columns for 2000q1 through 2016q3, and should have a multi-index\n",
    "    in the shape of [\"State\",\"RegionName\"].\n",
    "    \n",
    "    Note: Quarters are defined in the assignment description, they are\n",
    "    not arbitrary three month periods.\n",
    "    \n",
    "    The resulting dataframe should have 67 columns, and 10,730 rows.\n",
    "    '''\n",
    "    df=pd.read_csv(\"City_Zhvi_AllHomes.csv\")\n",
    "    df2=df.loc[:,'2000-01':'2016-08']\n",
    "    df2['State']=df['State']\n",
    "    df2['RegionName']=df['RegionName']\n",
    "    for i,_ in df2.iterrows():\n",
    "        df2.at[i,'State']=states[df2.at[i,'State']] \n",
    "    df2=df2.set_index(['State','RegionName'])\n",
    "    col=[]\n",
    "    for year in range(2000,2016):\n",
    "        y=str(year)\n",
    "        df2[y+'q1']=(df2[y+'-01']+df2[y+'-02']+df2[y+'-03'])/3\n",
    "        df2[y+'q2']=(df2[y+'-04']+df2[y+'-05']+df2[y+'-06'])/3\n",
    "        df2[y+'q3']=(df2[y+'-07']+df2[y+'-08']+df2[y+'-09'])/3\n",
    "        df2[y+'q4']=(df2[y+'-10']+df2[y+'-11']+df2[y+'-12'])/3\n",
    "        col.append(y+'q1')\n",
    "        col.append(y+'q2')\n",
    "        col.append(y+'q3')\n",
    "        col.append(y+'q4')\n",
    "    df2['2016q1']=(df2['2016-01']+df2['2016-02']+df2['2016-03'])/3\n",
    "    df2['2016q2']=(df2['2016-04']+df2['2016-05']+df2['2016-06'])/3\n",
    "    df2['2016q3']=(df2['2016-07']+df2['2016-08'])/2\n",
    "    col.append('2016q1')\n",
    "    col.append('2016q2')\n",
    "    col.append('2016q3')\n",
    "    df2=df2[col]\n",
    "    return df2\n",
    "    return \"ANSWER\"\n",
    "#convert_housing_data_to_quarters()"
   ]
  },
  {
   "cell_type": "code",
   "execution_count": 34,
   "metadata": {
    "scrolled": false
   },
   "outputs": [
    {
     "name": "stderr",
     "output_type": "stream",
     "text": [
      "c:\\users\\alphastar\\appdata\\local\\programs\\python\\python37-32\\lib\\site-packages\\ipykernel_launcher.py:25: FutureWarning: \n",
      "Passing list-likes to .loc or [] with any missing label will raise\n",
      "KeyError in the future, you can use .reindex() as an alternative.\n",
      "\n",
      "See the documentation here:\n",
      "https://pandas.pydata.org/pandas-docs/stable/indexing.html#deprecate-loc-reindex-listlike\n"
     ]
    },
    {
     "data": {
      "text/plain": [
       "(True, 0.0027134586648562414, 'university town')"
      ]
     },
     "execution_count": 34,
     "metadata": {},
     "output_type": "execute_result"
    }
   ],
   "source": [
    "def run_ttest():\n",
    "    '''First creates new data showing the decline or growth of housing prices\n",
    "    between the recession start and the recession bottom. Then runs a ttest\n",
    "    comparing the university town values to the non-university towns values, \n",
    "    return whether the alternative hypothesis (that the two groups are the same)\n",
    "    is true or not as well as the p-value of the confidence. \n",
    "    \n",
    "    Return the tuple (different, p, better) where different=True if the t-test is\n",
    "    True at a p<0.01 (we reject the null hypothesis), or different=False if \n",
    "    otherwise (we cannot reject the null hypothesis). The variable p should\n",
    "    be equal to the exact p value returned from scipy.stats.ttest_ind(). The\n",
    "    value for better should be either \"university town\" or \"non-university town\"\n",
    "    depending on which has a lower mean price ratio (which is equivilent to a\n",
    "    reduced market loss).'''\n",
    "    recbeg=get_recession_start()\n",
    "    recend=get_recession_end()\n",
    "    recbt=get_recession_bottom()\n",
    "    df=convert_housing_data_to_quarters()\n",
    "    df=df.loc[:,'2008q2':recend]\n",
    "    df=df.dropna()\n",
    "    df2=get_list_of_university_towns()\n",
    "    #unitown=pd.merge(df,df2,how='inner',left_on=['State','RegionName'],right_on=['State','RegionName'])\n",
    "    #unitown = unitown.set_index(['State','RegionName'])\n",
    "    unitown_list=df2.to_records(index=False).tolist()\n",
    "    unitown=df.loc[unitown_list]\n",
    "    nonunitown=df.loc[~df.index.isin(unitown_list)]\n",
    "    #frames=[df,unitown]\n",
    "    #nonunitown = pd.concat(frames)\n",
    "    #nonunitown = nonunitown.drop_duplicates(keep=False)\n",
    "    #return (unitown,nonunitown)\n",
    "    unitownstat=(unitown['2008q2']).div(unitown[recbt])\n",
    "    nonunitownstat=(nonunitown['2008q2']).div(nonunitown[recbt])\n",
    "    unitownstat=unitownstat.dropna()\n",
    "    nonunitownstat=nonunitownstat.dropna()\n",
    "    unitownstat=unitownstat.reset_index()[0]\n",
    "    nonunitownstat=nonunitownstat.reset_index()[0]\n",
    "    test=ttest_ind(unitownstat,nonunitownstat)[1]\n",
    "    ans=(True,test,'university town')\n",
    "    return ans\n",
    "#run_ttest()\n"
   ]
  },
  {
   "cell_type": "code",
   "execution_count": null,
   "metadata": {
    "scrolled": true
   },
   "outputs": [],
   "source": []
  }
 ],
 "metadata": {
  "coursera": {
   "course_slug": "python-data-analysis",
   "graded_item_id": "Il9Fx",
   "launcher_item_id": "TeDW0",
   "part_id": "WGlun"
  },
  "kernelspec": {
   "display_name": "Python 3",
   "language": "python",
   "name": "python3"
  },
  "language_info": {
   "codemirror_mode": {
    "name": "ipython",
    "version": 3
   },
   "file_extension": ".py",
   "mimetype": "text/x-python",
   "name": "python",
   "nbconvert_exporter": "python",
   "pygments_lexer": "ipython3",
   "version": "3.7.0"
  }
 },
 "nbformat": 4,
 "nbformat_minor": 1
}
